{
 "cells": [
  {
   "cell_type": "markdown",
   "id": "measured-excellence",
   "metadata": {},
   "source": [
    "**Testing code for csv_utils**"
   ]
  },
  {
   "cell_type": "code",
   "execution_count": 1,
   "id": "positive-indicator",
   "metadata": {},
   "outputs": [],
   "source": [
    "# external modules\n",
    "import sys\n",
    "import importlib\n",
    "\n",
    "# local modules\n",
    "sys.path.append('../utils')\n",
    "import csv_utils\n",
    "importlib.reload(csv_utils)\n",
    "from csv_utils import *"
   ]
  },
  {
   "cell_type": "code",
   "execution_count": 5,
   "id": "thermal-saying",
   "metadata": {},
   "outputs": [
    {
     "name": "stdout",
     "output_type": "stream",
     "text": [
      "ERROR in csv_utils.py / get_data_dirs: requested directory /eos/user/j/jmhogan/TrackerDQM/DF2017C_2D_Complete does not seem to exist...\n",
      "['/eos/user/j/jmhogan/TrackerDQM/DF2017B_2D_Complete']\n",
      "['/eos/user/j/jmhogan/TrackerDQM/DF2017B_2D_Complete/ZeroBias_2017B_DataFrame_2D_1.csv', '/eos/user/j/jmhogan/TrackerDQM/DF2017B_2D_Complete/ZeroBias_2017B_DataFrame_2D_10.csv', '/eos/user/j/jmhogan/TrackerDQM/DF2017B_2D_Complete/ZeroBias_2017B_DataFrame_2D_11.csv', '/eos/user/j/jmhogan/TrackerDQM/DF2017B_2D_Complete/ZeroBias_2017B_DataFrame_2D_12.csv', '/eos/user/j/jmhogan/TrackerDQM/DF2017B_2D_Complete/ZeroBias_2017B_DataFrame_2D_13.csv', '/eos/user/j/jmhogan/TrackerDQM/DF2017B_2D_Complete/ZeroBias_2017B_DataFrame_2D_14.csv', '/eos/user/j/jmhogan/TrackerDQM/DF2017B_2D_Complete/ZeroBias_2017B_DataFrame_2D_15.csv', '/eos/user/j/jmhogan/TrackerDQM/DF2017B_2D_Complete/ZeroBias_2017B_DataFrame_2D_16.csv', '/eos/user/j/jmhogan/TrackerDQM/DF2017B_2D_Complete/ZeroBias_2017B_DataFrame_2D_17.csv', '/eos/user/j/jmhogan/TrackerDQM/DF2017B_2D_Complete/ZeroBias_2017B_DataFrame_2D_18.csv', '/eos/user/j/jmhogan/TrackerDQM/DF2017B_2D_Complete/ZeroBias_2017B_DataFrame_2D_19.csv', '/eos/user/j/jmhogan/TrackerDQM/DF2017B_2D_Complete/ZeroBias_2017B_DataFrame_2D_2.csv', '/eos/user/j/jmhogan/TrackerDQM/DF2017B_2D_Complete/ZeroBias_2017B_DataFrame_2D_20.csv', '/eos/user/j/jmhogan/TrackerDQM/DF2017B_2D_Complete/ZeroBias_2017B_DataFrame_2D_21.csv', '/eos/user/j/jmhogan/TrackerDQM/DF2017B_2D_Complete/ZeroBias_2017B_DataFrame_2D_22.csv', '/eos/user/j/jmhogan/TrackerDQM/DF2017B_2D_Complete/ZeroBias_2017B_DataFrame_2D_23.csv', '/eos/user/j/jmhogan/TrackerDQM/DF2017B_2D_Complete/ZeroBias_2017B_DataFrame_2D_24.csv', '/eos/user/j/jmhogan/TrackerDQM/DF2017B_2D_Complete/ZeroBias_2017B_DataFrame_2D_25.csv', '/eos/user/j/jmhogan/TrackerDQM/DF2017B_2D_Complete/ZeroBias_2017B_DataFrame_2D_26.csv', '/eos/user/j/jmhogan/TrackerDQM/DF2017B_2D_Complete/ZeroBias_2017B_DataFrame_2D_27.csv']\n",
      "['/eos/user/j/jmhogan/TrackerDQM/DF2017B_2D_Complete/ZeroBias_2017B_DataFrame_2D_1.csv', '/eos/user/j/jmhogan/TrackerDQM/DF2017B_2D_Complete/ZeroBias_2017B_DataFrame_2D_2.csv', '/eos/user/j/jmhogan/TrackerDQM/DF2017B_2D_Complete/ZeroBias_2017B_DataFrame_2D_3.csv', '/eos/user/j/jmhogan/TrackerDQM/DF2017B_2D_Complete/ZeroBias_2017B_DataFrame_2D_4.csv', '/eos/user/j/jmhogan/TrackerDQM/DF2017B_2D_Complete/ZeroBias_2017B_DataFrame_2D_5.csv', '/eos/user/j/jmhogan/TrackerDQM/DF2017B_2D_Complete/ZeroBias_2017B_DataFrame_2D_6.csv', '/eos/user/j/jmhogan/TrackerDQM/DF2017B_2D_Complete/ZeroBias_2017B_DataFrame_2D_7.csv', '/eos/user/j/jmhogan/TrackerDQM/DF2017B_2D_Complete/ZeroBias_2017B_DataFrame_2D_8.csv', '/eos/user/j/jmhogan/TrackerDQM/DF2017B_2D_Complete/ZeroBias_2017B_DataFrame_2D_9.csv', '/eos/user/j/jmhogan/TrackerDQM/DF2017B_2D_Complete/ZeroBias_2017B_DataFrame_2D_10.csv', '/eos/user/j/jmhogan/TrackerDQM/DF2017B_2D_Complete/ZeroBias_2017B_DataFrame_2D_11.csv', '/eos/user/j/jmhogan/TrackerDQM/DF2017B_2D_Complete/ZeroBias_2017B_DataFrame_2D_12.csv', '/eos/user/j/jmhogan/TrackerDQM/DF2017B_2D_Complete/ZeroBias_2017B_DataFrame_2D_13.csv', '/eos/user/j/jmhogan/TrackerDQM/DF2017B_2D_Complete/ZeroBias_2017B_DataFrame_2D_14.csv', '/eos/user/j/jmhogan/TrackerDQM/DF2017B_2D_Complete/ZeroBias_2017B_DataFrame_2D_15.csv', '/eos/user/j/jmhogan/TrackerDQM/DF2017B_2D_Complete/ZeroBias_2017B_DataFrame_2D_16.csv', '/eos/user/j/jmhogan/TrackerDQM/DF2017B_2D_Complete/ZeroBias_2017B_DataFrame_2D_17.csv', '/eos/user/j/jmhogan/TrackerDQM/DF2017B_2D_Complete/ZeroBias_2017B_DataFrame_2D_18.csv', '/eos/user/j/jmhogan/TrackerDQM/DF2017B_2D_Complete/ZeroBias_2017B_DataFrame_2D_19.csv', '/eos/user/j/jmhogan/TrackerDQM/DF2017B_2D_Complete/ZeroBias_2017B_DataFrame_2D_20.csv']\n"
     ]
    }
   ],
   "source": [
    "datadirs = list(get_data_dirs(year='2017',eras=['B','C'],dim=2))\n",
    "print(datadirs)\n",
    "csvfiles = list(get_csv_files(datadirs[0]))\n",
    "print(csvfiles[:20])\n",
    "csvfiles = sort_filenames(csvfiles)\n",
    "print(csvfiles[:20])"
   ]
  },
  {
   "cell_type": "code",
   "execution_count": 8,
   "id": "vietnamese-cooler",
   "metadata": {},
   "outputs": [
    {
     "name": "stdout",
     "output_type": "stream",
     "text": [
      "INFO in csv_utils.py / read_and_merge_csv: reading and merging 45 csv files...\n",
      "  - now processing file 1 of 45...\n",
      "  - now processing file 2 of 45...\n",
      "  - now processing file 3 of 45...\n",
      "  - now processing file 4 of 45...\n",
      "  - now processing file 5 of 45...\n",
      "  - now processing file 6 of 45...\n",
      "  - now processing file 7 of 45...\n",
      "  - now processing file 8 of 45...\n",
      "  - now processing file 9 of 45...\n",
      "  - now processing file 10 of 45...\n",
      "  - now processing file 11 of 45...\n",
      "  - now processing file 12 of 45...\n",
      "  - now processing file 13 of 45...\n",
      "  - now processing file 14 of 45...\n",
      "  - now processing file 15 of 45...\n",
      "  - now processing file 16 of 45...\n",
      "  - now processing file 17 of 45...\n",
      "  - now processing file 18 of 45...\n",
      "  - now processing file 19 of 45...\n",
      "  - now processing file 20 of 45...\n",
      "  - now processing file 21 of 45...\n",
      "  - now processing file 22 of 45...\n",
      "  - now processing file 23 of 45...\n",
      "  - now processing file 24 of 45...\n",
      "  - now processing file 25 of 45...\n",
      "  - now processing file 26 of 45...\n",
      "  - now processing file 27 of 45...\n",
      "  - now processing file 28 of 45...\n",
      "  - now processing file 29 of 45...\n",
      "  - now processing file 30 of 45...\n",
      "  - now processing file 31 of 45...\n",
      "  - now processing file 32 of 45...\n",
      "  - now processing file 33 of 45...\n",
      "  - now processing file 34 of 45...\n",
      "  - now processing file 35 of 45...\n",
      "  - now processing file 36 of 45...\n",
      "  - now processing file 37 of 45...\n",
      "  - now processing file 38 of 45...\n",
      "  - now processing file 39 of 45...\n",
      "  - now processing file 40 of 45...\n",
      "  - now processing file 41 of 45...\n",
      "  - now processing file 42 of 45...\n",
      "  - now processing file 43 of 45...\n",
      "  - now processing file 44 of 45...\n",
      "  - now processing file 45 of 45...\n"
     ]
    }
   ],
   "source": [
    "write_skimmed_csv(['chargeInner_PXLayer_1'],'2017',eras=['B'], dim=2)"
   ]
  },
  {
   "cell_type": "code",
   "execution_count": null,
   "id": "nonprofit-finger",
   "metadata": {},
   "outputs": [],
   "source": []
  }
 ],
 "metadata": {
  "kernelspec": {
   "display_name": "Python 3",
   "language": "python",
   "name": "python3"
  },
  "language_info": {
   "codemirror_mode": {
    "name": "ipython",
    "version": 3
   },
   "file_extension": ".py",
   "mimetype": "text/x-python",
   "name": "python",
   "nbconvert_exporter": "python",
   "pygments_lexer": "ipython3",
   "version": "3.8.6"
  }
 },
 "nbformat": 4,
 "nbformat_minor": 5
}
